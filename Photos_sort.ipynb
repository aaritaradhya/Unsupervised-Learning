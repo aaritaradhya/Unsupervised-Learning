{
 "cells": [
  {
   "cell_type": "markdown",
   "metadata": {},
   "source": [
    "# This is to move photos to sorted folders"
   ]
  },
  {
   "cell_type": "code",
   "execution_count": 1,
   "metadata": {},
   "outputs": [],
   "source": [
    "from time import strptime\n",
    "import shutil\n",
    "import os\n",
    "from PIL import Image\n",
    "import calendar\n",
    "import time\n",
    "import datetime\n",
    "def get_taken_time(path,cur_photo):\n",
    "    try:\n",
    "        dt= Image.open(path)._getexif()[36867]\n",
    "    except:\n",
    "        try:\n",
    "            dt='0'\n",
    "        except:\n",
    "            os.replace(path,tgt+\"\\\\excluded\\\\\"+cur_photo)\n",
    "            dt = ''\n",
    "    return dt\n",
    "#  dates\n"
   ]
  },
  {
   "cell_type": "code",
   "execution_count": 17,
   "metadata": {},
   "outputs": [],
   "source": [
    "def sort_photos_by_date(src,file_name, tgt):\n",
    "#  for file in os.listdir(src):\n",
    "    cur_photo = file_name\n",
    "#     print(cur_photo)\n",
    "    date_time = get_taken_time(src + '\\\\' + cur_photo, cur_photo)\n",
    "    if not date_time == '':\n",
    "        if not date_time == '0':\n",
    "            year_taken = date_time[0:4:]\n",
    "            month_taken = date_time[5:7]\n",
    "            mn = month_taken\n",
    "            month_taken = calendar.month_name[int(month_taken)]\n",
    "        else:\n",
    "            dt = time.ctime(os.path.getmtime(src + '\\\\'+ cur_photo))\n",
    "            month_taken1 = dt[4:7:]\n",
    "            month_taken = datetime.datetime.strptime(month_taken1,'%b').strftime('%B')\n",
    "            year_taken = dt[20::]\n",
    "            mn = strptime(month_taken1, '%b').tm_mon\n",
    "            if mn < 10:\n",
    "                mn = '0' + str(mn)\n",
    "            mn = str(mn)\n",
    "        if os.path.isdir(tgt + '\\\\' + year_taken + '\\\\' + mn + '_'+ month_taken):\n",
    "            os.replace(src + '\\\\' + cur_photo, tgt + '\\\\'+ year_taken + '\\\\' + mn + '_' + month_taken+ '\\\\' + cur_photo)\n",
    "        else:\n",
    "            os.makedirs(tgt + '\\\\' + year_taken + '\\\\' + mn + '_'+ month_taken)\n",
    "            os.replace(src + '\\\\' + cur_photo, tgt + '\\\\'+ year_taken + '\\\\' + mn + '_' + month_taken+ '\\\\' + cur_photo)\n"
   ]
  },
  {
   "cell_type": "code",
   "execution_count": 18,
   "metadata": {
    "scrolled": false
   },
   "outputs": [],
   "source": [
    "source_folder = r'C:\\Users\\samu0315\\Desktop\\src'\n",
    "tgt = r\"C:\\Users\\samu0315\\Desktop\\Pics and Vids Master copy\\Photos_Sorted\"\n",
    "\n",
    "for subdir, dirs, files in os.walk(source_folder):\n",
    "        src_path=os.path.join(subdir)\n",
    "        for file in files:\n",
    "            file_name=file\n",
    "            sort_photos_by_date(src_path,file_name,tgt)"
   ]
  }
 ],
 "metadata": {
  "kernelspec": {
   "display_name": "Python 3",
   "language": "python",
   "name": "python3"
  },
  "language_info": {
   "codemirror_mode": {
    "name": "ipython",
    "version": 3
   },
   "file_extension": ".py",
   "mimetype": "text/x-python",
   "name": "python",
   "nbconvert_exporter": "python",
   "pygments_lexer": "ipython3",
   "version": "3.7.4"
  }
 },
 "nbformat": 4,
 "nbformat_minor": 2
}
